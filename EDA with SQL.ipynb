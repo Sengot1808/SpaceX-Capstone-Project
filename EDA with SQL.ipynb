{
    "cells": [
        {
            "metadata": {},
            "cell_type": "markdown",
            "source": "<center>\n    <img src=\"https://gitlab.com/ibm/skills-network/courses/placeholder101/-/raw/master/labs/module%201/images/IDSNlogo.png\"  width=\"300\" alt=\"cognitiveclass.ai logo\"  />\n</center>\n\n<h1 align=center><font size = 5>Assignment: SQL Notebook for Peer Assignment</font></h1>\n\nEstimated time needed: **60** minutes.\n\n## Introduction\n\nUsing this Python notebook you will:\n\n1.  Understand the Spacex DataSet\n2.  Load the dataset  into the corresponding table in a Db2 database\n3.  Execute SQL queries to answer assignment questions\n"
        },
        {
            "metadata": {},
            "cell_type": "markdown",
            "source": "## Overview of the DataSet\n\nSpaceX has gained worldwide attention for a series of historic milestones.\n\nIt is the only private company ever to return a spacecraft from low-earth orbit, which it first accomplished in December 2010.\nSpaceX advertises Falcon 9 rocket launches on its website with a cost of 62 million dollars wheras other providers cost upward of 165 million dollars each, much of the savings is because Space X can reuse the first stage.\n\nTherefore if we can determine if the first stage will land, we can determine the cost of a launch.\n\nThis information can be used if an alternate company wants to bid against SpaceX for a rocket launch.\n\nThis dataset includes a record for each payload carried during a SpaceX mission into outer space.\n"
        },
        {
            "metadata": {},
            "cell_type": "markdown",
            "source": "### Download the datasets\n\nThis assignment requires you to load the spacex dataset.\n\nIn many cases the dataset to be analyzed is available as a .CSV (comma separated values) file, perhaps on the internet. Click on the link below to download and save the dataset (.CSV file):\n\n<a href=\"https://cf-courses-data.s3.us.cloud-object-storage.appdomain.cloud/IBM-DS0321EN-SkillsNetwork/labs/module_2/data/Spacex.csv?utm_medium=Exinfluencer&utm_source=Exinfluencer&utm_content=000026UJ&utm_term=10006555&utm_id=NA-SkillsNetwork-Channel-SkillsNetworkCoursesIBMDS0321ENSkillsNetwork26802033-2021-01-01\" target=\"_blank\">Spacex DataSet</a>\n"
        },
        {
            "metadata": {},
            "cell_type": "markdown",
            "source": "### Store the dataset in database table\n\n**it is highly recommended to manually load the table using the database console LOAD tool in DB2**.\n\n<img src = \"https://cf-courses-data.s3.us.cloud-object-storage.appdomain.cloud/IBM-DS0321EN-SkillsNetwork/labs/module_2/images/spacexload.png\">\n\nNow open the Db2 console, open the LOAD tool, Select / Drag the .CSV file for the  dataset, Next create a New Table, and then follow the steps on-screen instructions to load the data. Name the new table as follows:\n\n**SPACEXDATASET**\n\n**Follow these steps while using old DB2 UI which is having Open Console Screen**\n\n**Note:While loading Spacex dataset, ensure that detect datatypes is disabled. Later click on the pencil icon(edit option).**\n\n1.  Change the Date Format by manually typing DD-MM-YYYY and timestamp format as DD-MM-YYYY HH\\:MM:SS.\n\n    Here you should place the cursor at Date field and manually type as DD-MM-YYYY.\n\n2.  Change the PAYLOAD_MASS\\_\\_KG\\_  datatype  to INTEGER.\n\n<img src = \"https://cf-courses-data.s3.us.cloud-object-storage.appdomain.cloud/IBM-DS0321EN-SkillsNetwork/labs/module_2/images/spacexload2.png\">\n"
        },
        {
            "metadata": {},
            "cell_type": "markdown",
            "source": "**Changes to be considered when having DB2 instance with the new UI having Go to UI screen**\n\n*   Refer to this insruction in this <a href=\"https://cf-courses-data.s3.us.cloud-object-storage.appdomain.cloud/IBMDeveloperSkillsNetwork-DB0201EN-SkillsNetwork/labs/Labs_Coursera_V5/labs/Lab%20-%20Sign%20up%20for%20IBM%20Cloud%20-%20Create%20Db2%20service%20instance%20-%20Get%20started%20with%20the%20Db2%20console/instructional-labs.md.html?utm_medium=Exinfluencer&utm_source=Exinfluencer&utm_content=000026UJ&utm_term=10006555&utm_id=NA-SkillsNetwork-Channel-SkillsNetworkCoursesIBMDS0321ENSkillsNetwork26802033-2021-01-01\">link</a> for viewing  the new  Go to UI screen.\n\n*   Later click on **Data link(below SQL)**  in the Go to UI screen  and click on **Load Data** tab.\n\n*   Later browse for the downloaded spacex file.\n\n<img src=\"https://cf-courses-data.s3.us.cloud-object-storage.appdomain.cloud/IBM-DS0321EN-SkillsNetwork/labs/module_2/images/browsefile.png\" width=\"800\"/>\n\n*   Once done select the schema andload the file.\n\n <img src=\"https://cf-courses-data.s3.us.cloud-object-storage.appdomain.cloud/IBM-DS0321EN-SkillsNetwork/labs/module_2/images/spacexload3.png\" width=\"800\"/>\n"
        },
        {
            "metadata": {},
            "cell_type": "code",
            "source": "!pip install sqlalchemy==1.3.9\n!pip install ibm_db_sa\n!pip install ipython-sql\n!pip install ibm_db\n!pip install pyodbc",
            "execution_count": 1,
            "outputs": [
                {
                    "output_type": "stream",
                    "text": "Collecting sqlalchemy==1.3.9\n  Downloading SQLAlchemy-1.3.9.tar.gz (6.0 MB)\n\u001b[K     |\u2588\u2588\u2588\u2588\u2588\u2588\u2588\u2588\u2588\u2588\u2588\u2588\u2588\u2588\u2588\u2588\u2588\u2588\u2588\u2588\u2588\u2588\u2588\u2588\u2588\u2588\u2588\u2588\u2588\u2588\u2588\u2588| 6.0 MB 5.6 MB/s eta 0:00:01\n\u001b[?25hBuilding wheels for collected packages: sqlalchemy\n  Building wheel for sqlalchemy (setup.py) ... \u001b[?25ldone\n\u001b[?25h  Created wheel for sqlalchemy: filename=SQLAlchemy-1.3.9-cp38-cp38-linux_x86_64.whl size=1209502 sha256=9fe27d75deae96e0772d8c0557acd5fec628948a6b9379fba102e2a4d0d82fd0\n  Stored in directory: /tmp/wsuser/.cache/pip/wheels/cb/43/46/fa638f2422554332b7865d600275b24568bf60e76104a94bb4\nSuccessfully built sqlalchemy\nInstalling collected packages: sqlalchemy\n  Attempting uninstall: sqlalchemy\n    Found existing installation: SQLAlchemy 1.4.22\n    Uninstalling SQLAlchemy-1.4.22:\n      Successfully uninstalled SQLAlchemy-1.4.22\nSuccessfully installed sqlalchemy-1.3.9\nRequirement already satisfied: ibm_db_sa in /opt/conda/envs/Python-3.8-main/lib/python3.8/site-packages (0.3.7)\nRequirement already satisfied: ibm-db>=2.0.0 in /opt/conda/envs/Python-3.8-main/lib/python3.8/site-packages (from ibm_db_sa) (3.0.4)\nRequirement already satisfied: sqlalchemy>=0.7.3 in /opt/conda/envs/Python-3.8-main/lib/python3.8/site-packages (from ibm_db_sa) (1.3.9)\nCollecting ipython-sql\n  Downloading ipython_sql-0.4.0-py3-none-any.whl (19 kB)\nRequirement already satisfied: ipython-genutils>=0.1.0 in /opt/conda/envs/Python-3.8-main/lib/python3.8/site-packages (from ipython-sql) (0.2.0)\nRequirement already satisfied: six in /opt/conda/envs/Python-3.8-main/lib/python3.8/site-packages (from ipython-sql) (1.15.0)\nCollecting sqlparse\n  Downloading sqlparse-0.4.2-py3-none-any.whl (42 kB)\n\u001b[K     |\u2588\u2588\u2588\u2588\u2588\u2588\u2588\u2588\u2588\u2588\u2588\u2588\u2588\u2588\u2588\u2588\u2588\u2588\u2588\u2588\u2588\u2588\u2588\u2588\u2588\u2588\u2588\u2588\u2588\u2588\u2588\u2588| 42 kB 2.2 MB/s  eta 0:00:01\n\u001b[?25hRequirement already satisfied: sqlalchemy>=0.6.7 in /opt/conda/envs/Python-3.8-main/lib/python3.8/site-packages (from ipython-sql) (1.3.9)\nRequirement already satisfied: ipython>=1.0 in /opt/conda/envs/Python-3.8-main/lib/python3.8/site-packages (from ipython-sql) (7.22.0)\nCollecting prettytable<1\n  Downloading prettytable-0.7.2.zip (28 kB)\nRequirement already satisfied: traitlets>=4.2 in /opt/conda/envs/Python-3.8-main/lib/python3.8/site-packages (from ipython>=1.0->ipython-sql) (5.0.5)\nRequirement already satisfied: pexpect>4.3 in /opt/conda/envs/Python-3.8-main/lib/python3.8/site-packages (from ipython>=1.0->ipython-sql) (4.8.0)\nRequirement already satisfied: decorator in /opt/conda/envs/Python-3.8-main/lib/python3.8/site-packages (from ipython>=1.0->ipython-sql) (5.0.9)\nRequirement already satisfied: jedi>=0.16 in /opt/conda/envs/Python-3.8-main/lib/python3.8/site-packages (from ipython>=1.0->ipython-sql) (0.17.2)\nRequirement already satisfied: prompt-toolkit!=3.0.0,!=3.0.1,<3.1.0,>=2.0.0 in /opt/conda/envs/Python-3.8-main/lib/python3.8/site-packages (from ipython>=1.0->ipython-sql) (3.0.17)\nRequirement already satisfied: pickleshare in /opt/conda/envs/Python-3.8-main/lib/python3.8/site-packages (from ipython>=1.0->ipython-sql) (0.7.5)\nRequirement already satisfied: setuptools>=18.5 in /opt/conda/envs/Python-3.8-main/lib/python3.8/site-packages (from ipython>=1.0->ipython-sql) (52.0.0.post20211006)\nRequirement already satisfied: backcall in /opt/conda/envs/Python-3.8-main/lib/python3.8/site-packages (from ipython>=1.0->ipython-sql) (0.2.0)\nRequirement already satisfied: pygments in /opt/conda/envs/Python-3.8-main/lib/python3.8/site-packages (from ipython>=1.0->ipython-sql) (2.9.0)\nRequirement already satisfied: parso<0.8.0,>=0.7.0 in /opt/conda/envs/Python-3.8-main/lib/python3.8/site-packages (from jedi>=0.16->ipython>=1.0->ipython-sql) (0.7.0)\nRequirement already satisfied: ptyprocess>=0.5 in /opt/conda/envs/Python-3.8-main/lib/python3.8/site-packages (from pexpect>4.3->ipython>=1.0->ipython-sql) (0.7.0)\nRequirement already satisfied: wcwidth in /opt/conda/envs/Python-3.8-main/lib/python3.8/site-packages (from prompt-toolkit!=3.0.0,!=3.0.1,<3.1.0,>=2.0.0->ipython>=1.0->ipython-sql) (0.2.5)\nBuilding wheels for collected packages: prettytable\n  Building wheel for prettytable (setup.py) ... \u001b[?25ldone\n\u001b[?25h  Created wheel for prettytable: filename=prettytable-0.7.2-py3-none-any.whl size=13700 sha256=09d4526e40e37acf45f644fdad951f2e3458ea9a409ccb95ae3448f80a5b345e\n  Stored in directory: /tmp/wsuser/.cache/pip/wheels/48/6d/77/9517cb933af254f51a446f1a5ec9c2be3e45f17384940bce68\nSuccessfully built prettytable\nInstalling collected packages: sqlparse, prettytable, ipython-sql\nSuccessfully installed ipython-sql-0.4.0 prettytable-0.7.2 sqlparse-0.4.2\nRequirement already satisfied: ibm_db in /opt/conda/envs/Python-3.8-main/lib/python3.8/site-packages (3.0.4)\nRequirement already satisfied: pyodbc in /opt/conda/envs/Python-3.8-main/lib/python3.8/site-packages (4.0.0-unsupported)\n",
                    "name": "stdout"
                }
            ]
        },
        {
            "metadata": {},
            "cell_type": "markdown",
            "source": "### Connect to the database\n\nLet us first load the SQL extension and establish a connection with the database\n"
        },
        {
            "metadata": {},
            "cell_type": "code",
            "source": "%load_ext sql",
            "execution_count": 2,
            "outputs": []
        },
        {
            "metadata": {},
            "cell_type": "code",
            "source": "import ibm_db\nimport ibm_db_sa\nimport sqlalchemy\nimport ibm_db\nimport sys\nimport pyodbc",
            "execution_count": 3,
            "outputs": []
        },
        {
            "metadata": {},
            "cell_type": "code",
            "source": "user = \"hvz99678\"\nhost = \"21fecfd8-47b7-4937-840d-d791d0218660.bs2io90l08kqb1od8lcg.databases.appdomain.cloud\"\npassword = \"4jOpg5yjDqPIrgWw\"",
            "execution_count": 4,
            "outputs": []
        },
        {
            "metadata": {},
            "cell_type": "code",
            "source": "%sql ibm_db_sa://$user:$password@$host:31864/BLUDB?security=SSL",
            "execution_count": 5,
            "outputs": []
        },
        {
            "metadata": {},
            "cell_type": "markdown",
            "source": "## Tasks\n\nNow write and execute SQL queries to solve the assignment tasks.\n\n### Task 1\n\n##### Display the names of the unique launch sites  in the space mission\n"
        },
        {
            "metadata": {},
            "cell_type": "code",
            "source": "unique_launch_site = %sql select DISTINCT LAUNCH_SITE from SPACEXTBL\nunique_launch_site",
            "execution_count": 6,
            "outputs": [
                {
                    "output_type": "stream",
                    "text": " * ibm_db_sa://hvz99678:***@21fecfd8-47b7-4937-840d-d791d0218660.bs2io90l08kqb1od8lcg.databases.appdomain.cloud:31864/BLUDB\nDone.\n",
                    "name": "stdout"
                },
                {
                    "output_type": "execute_result",
                    "execution_count": 6,
                    "data": {
                        "text/plain": "[('CCAFS LC-40',), ('CCAFS SLC-40',), ('KSC LC-39A',), ('VAFB SLC-4E',)]",
                        "text/html": "<table>\n    <tr>\n        <th>launch_site</th>\n    </tr>\n    <tr>\n        <td>CCAFS LC-40</td>\n    </tr>\n    <tr>\n        <td>CCAFS SLC-40</td>\n    </tr>\n    <tr>\n        <td>KSC LC-39A</td>\n    </tr>\n    <tr>\n        <td>VAFB SLC-4E</td>\n    </tr>\n</table>"
                    },
                    "metadata": {}
                }
            ]
        },
        {
            "metadata": {},
            "cell_type": "markdown",
            "source": "### Task 2\n\n##### Display 5 records where launch sites begin with the string 'CCA'\n"
        },
        {
            "metadata": {},
            "cell_type": "code",
            "source": "cca_launch_site__five_record = %sql select * from SPACEXTBL where LAUNCH_SITE like 'CCA%' limit 5\ncca_launch_site__five_record",
            "execution_count": 7,
            "outputs": [
                {
                    "output_type": "stream",
                    "text": " * ibm_db_sa://hvz99678:***@21fecfd8-47b7-4937-840d-d791d0218660.bs2io90l08kqb1od8lcg.databases.appdomain.cloud:31864/BLUDB\nDone.\n",
                    "name": "stdout"
                },
                {
                    "output_type": "execute_result",
                    "execution_count": 7,
                    "data": {
                        "text/plain": "[(datetime.date(2010, 6, 4), datetime.time(18, 45), 'F9 v1.0  B0003', 'CCAFS LC-40', 'Dragon Spacecraft Qualification Unit', 0, 'LEO', 'SpaceX', 'Success', 'Failure (parachute)'),\n (datetime.date(2010, 12, 8), datetime.time(15, 43), 'F9 v1.0  B0004', 'CCAFS LC-40', 'Dragon demo flight C1, two CubeSats, barrel of Brouere cheese', 0, 'LEO (ISS)', 'NASA (COTS) NRO', 'Success', 'Failure (parachute)'),\n (datetime.date(2012, 5, 22), datetime.time(7, 44), 'F9 v1.0  B0005', 'CCAFS LC-40', 'Dragon demo flight C2', 525, 'LEO (ISS)', 'NASA (COTS)', 'Success', 'No attempt'),\n (datetime.date(2012, 10, 8), datetime.time(0, 35), 'F9 v1.0  B0006', 'CCAFS LC-40', 'SpaceX CRS-1', 500, 'LEO (ISS)', 'NASA (CRS)', 'Success', 'No attempt'),\n (datetime.date(2013, 3, 1), datetime.time(15, 10), 'F9 v1.0  B0007', 'CCAFS LC-40', 'SpaceX CRS-2', 677, 'LEO (ISS)', 'NASA (CRS)', 'Success', 'No attempt')]",
                        "text/html": "<table>\n    <tr>\n        <th>DATE</th>\n        <th>time__utc_</th>\n        <th>booster_version</th>\n        <th>launch_site</th>\n        <th>payload</th>\n        <th>payload_mass__kg_</th>\n        <th>orbit</th>\n        <th>customer</th>\n        <th>mission_outcome</th>\n        <th>landing_outcome</th>\n    </tr>\n    <tr>\n        <td>2010-06-04</td>\n        <td>18:45:00</td>\n        <td>F9 v1.0  B0003</td>\n        <td>CCAFS LC-40</td>\n        <td>Dragon Spacecraft Qualification Unit</td>\n        <td>0</td>\n        <td>LEO</td>\n        <td>SpaceX</td>\n        <td>Success</td>\n        <td>Failure (parachute)</td>\n    </tr>\n    <tr>\n        <td>2010-12-08</td>\n        <td>15:43:00</td>\n        <td>F9 v1.0  B0004</td>\n        <td>CCAFS LC-40</td>\n        <td>Dragon demo flight C1, two CubeSats, barrel of Brouere cheese</td>\n        <td>0</td>\n        <td>LEO (ISS)</td>\n        <td>NASA (COTS) NRO</td>\n        <td>Success</td>\n        <td>Failure (parachute)</td>\n    </tr>\n    <tr>\n        <td>2012-05-22</td>\n        <td>07:44:00</td>\n        <td>F9 v1.0  B0005</td>\n        <td>CCAFS LC-40</td>\n        <td>Dragon demo flight C2</td>\n        <td>525</td>\n        <td>LEO (ISS)</td>\n        <td>NASA (COTS)</td>\n        <td>Success</td>\n        <td>No attempt</td>\n    </tr>\n    <tr>\n        <td>2012-10-08</td>\n        <td>00:35:00</td>\n        <td>F9 v1.0  B0006</td>\n        <td>CCAFS LC-40</td>\n        <td>SpaceX CRS-1</td>\n        <td>500</td>\n        <td>LEO (ISS)</td>\n        <td>NASA (CRS)</td>\n        <td>Success</td>\n        <td>No attempt</td>\n    </tr>\n    <tr>\n        <td>2013-03-01</td>\n        <td>15:10:00</td>\n        <td>F9 v1.0  B0007</td>\n        <td>CCAFS LC-40</td>\n        <td>SpaceX CRS-2</td>\n        <td>677</td>\n        <td>LEO (ISS)</td>\n        <td>NASA (CRS)</td>\n        <td>Success</td>\n        <td>No attempt</td>\n    </tr>\n</table>"
                    },
                    "metadata": {}
                }
            ]
        },
        {
            "metadata": {},
            "cell_type": "markdown",
            "source": "### Task 3\n\n##### Display the total payload mass carried by boosters launched by NASA (CRS)\n"
        },
        {
            "metadata": {},
            "cell_type": "code",
            "source": "payload_mass_nasa_crs = %sql select sum(PAYLOAD_MASS__KG_) as Total_Payload_Mass from SPACEXTBL where CUSTOMER='NASA (CRS)'\npayload_mass_nasa_crs",
            "execution_count": 8,
            "outputs": [
                {
                    "output_type": "stream",
                    "text": " * ibm_db_sa://hvz99678:***@21fecfd8-47b7-4937-840d-d791d0218660.bs2io90l08kqb1od8lcg.databases.appdomain.cloud:31864/BLUDB\nDone.\n",
                    "name": "stdout"
                },
                {
                    "output_type": "execute_result",
                    "execution_count": 8,
                    "data": {
                        "text/plain": "[(45596,)]",
                        "text/html": "<table>\n    <tr>\n        <th>total_payload_mass</th>\n    </tr>\n    <tr>\n        <td>45596</td>\n    </tr>\n</table>"
                    },
                    "metadata": {}
                }
            ]
        },
        {
            "metadata": {},
            "cell_type": "markdown",
            "source": "### Task 4\n\n##### Display average payload mass carried by booster version F9 v1.1\n"
        },
        {
            "metadata": {},
            "cell_type": "code",
            "source": "avarage_payload_mass_carried_F9_v1_1 = %sql select avg(PAYLOAD_MASS__KG_) as Avarage_Payload_Mass from SPACEXTBL where BOOSTER_VERSION = 'F9 v1.1'\navarage_payload_mass_carried_F9_v1_1",
            "execution_count": 9,
            "outputs": [
                {
                    "output_type": "stream",
                    "text": " * ibm_db_sa://hvz99678:***@21fecfd8-47b7-4937-840d-d791d0218660.bs2io90l08kqb1od8lcg.databases.appdomain.cloud:31864/BLUDB\nDone.\n",
                    "name": "stdout"
                },
                {
                    "output_type": "execute_result",
                    "execution_count": 9,
                    "data": {
                        "text/plain": "[(2928,)]",
                        "text/html": "<table>\n    <tr>\n        <th>avarage_payload_mass</th>\n    </tr>\n    <tr>\n        <td>2928</td>\n    </tr>\n</table>"
                    },
                    "metadata": {}
                }
            ]
        },
        {
            "metadata": {},
            "cell_type": "markdown",
            "source": "### Task 5\n\n##### List the date when the first successful landing outcome in ground pad was acheived.\n\n*Hint:Use min function*\n"
        },
        {
            "metadata": {},
            "cell_type": "code",
            "source": "successful_ground_pad_landing = %sql select min(DATE) as Date_first_successful_outcome_ground_pad from SPACEXTBL where LANDING_OUTCOME = 'Success (ground pad)'\nsuccessful_ground_pad_landing",
            "execution_count": 10,
            "outputs": [
                {
                    "output_type": "stream",
                    "text": " * ibm_db_sa://hvz99678:***@21fecfd8-47b7-4937-840d-d791d0218660.bs2io90l08kqb1od8lcg.databases.appdomain.cloud:31864/BLUDB\nDone.\n",
                    "name": "stdout"
                },
                {
                    "output_type": "execute_result",
                    "execution_count": 10,
                    "data": {
                        "text/plain": "[(datetime.date(2015, 12, 22),)]",
                        "text/html": "<table>\n    <tr>\n        <th>date_first_successful_outcome_ground_pad</th>\n    </tr>\n    <tr>\n        <td>2015-12-22</td>\n    </tr>\n</table>"
                    },
                    "metadata": {}
                }
            ]
        },
        {
            "metadata": {},
            "cell_type": "markdown",
            "source": "### Task 6\n\n##### List the names of the boosters which have success in drone ship and have payload mass greater than 4000 but less than 6000\n"
        },
        {
            "metadata": {},
            "cell_type": "code",
            "source": "successful_drone_landing_payload_mass = %sql select BOOSTER_VERSION from SPACEXTBL where LANDING_OUTCOME = 'Success (drone ship)' and PAYLOAD_MASS__KG_ BETWEEN 4000 and 6000 \nsuccessful_drone_landing_payload_mass",
            "execution_count": 11,
            "outputs": [
                {
                    "output_type": "stream",
                    "text": " * ibm_db_sa://hvz99678:***@21fecfd8-47b7-4937-840d-d791d0218660.bs2io90l08kqb1od8lcg.databases.appdomain.cloud:31864/BLUDB\nDone.\n",
                    "name": "stdout"
                },
                {
                    "output_type": "execute_result",
                    "execution_count": 11,
                    "data": {
                        "text/plain": "[('F9 FT B1022',), ('F9 FT B1026',), ('F9 FT  B1021.2',), ('F9 FT  B1031.2',)]",
                        "text/html": "<table>\n    <tr>\n        <th>booster_version</th>\n    </tr>\n    <tr>\n        <td>F9 FT B1022</td>\n    </tr>\n    <tr>\n        <td>F9 FT B1026</td>\n    </tr>\n    <tr>\n        <td>F9 FT  B1021.2</td>\n    </tr>\n    <tr>\n        <td>F9 FT  B1031.2</td>\n    </tr>\n</table>"
                    },
                    "metadata": {}
                }
            ]
        },
        {
            "metadata": {},
            "cell_type": "markdown",
            "source": "### Task 7\n\n##### List the total number of successful and failure mission outcomes\n"
        },
        {
            "metadata": {},
            "cell_type": "code",
            "source": "success_mission_outcome = %sql select count(MISSION_OUTCOME) as success_mission_outcome from SPACEXTBL where MISSION_OUTCOME like '%Success%'\nsuccess_mission_outcome",
            "execution_count": 12,
            "outputs": [
                {
                    "output_type": "stream",
                    "text": " * ibm_db_sa://hvz99678:***@21fecfd8-47b7-4937-840d-d791d0218660.bs2io90l08kqb1od8lcg.databases.appdomain.cloud:31864/BLUDB\nDone.\n",
                    "name": "stdout"
                },
                {
                    "output_type": "execute_result",
                    "execution_count": 12,
                    "data": {
                        "text/plain": "[(100,)]",
                        "text/html": "<table>\n    <tr>\n        <th>success_mission_outcome</th>\n    </tr>\n    <tr>\n        <td>100</td>\n    </tr>\n</table>"
                    },
                    "metadata": {}
                }
            ]
        },
        {
            "metadata": {},
            "cell_type": "code",
            "source": "failure_mission_outcome = %sql select count(MISSION_OUTCOME) as failure_mission_outcome from SPACEXTBL where MISSION_OUTCOME like '%Failure%'\nfailure_mission_outcome",
            "execution_count": 13,
            "outputs": [
                {
                    "output_type": "stream",
                    "text": " * ibm_db_sa://hvz99678:***@21fecfd8-47b7-4937-840d-d791d0218660.bs2io90l08kqb1od8lcg.databases.appdomain.cloud:31864/BLUDB\nDone.\n",
                    "name": "stdout"
                },
                {
                    "output_type": "execute_result",
                    "execution_count": 13,
                    "data": {
                        "text/plain": "[(1,)]",
                        "text/html": "<table>\n    <tr>\n        <th>failure_mission_outcome</th>\n    </tr>\n    <tr>\n        <td>1</td>\n    </tr>\n</table>"
                    },
                    "metadata": {}
                }
            ]
        },
        {
            "metadata": {},
            "cell_type": "code",
            "source": "import pandas as pd\ndf1 = pd.DataFrame({'successful_mission_outcome':success_mission_outcome ,'failure_mission_outcome': failure_mission_outcome})\ndf1",
            "execution_count": 14,
            "outputs": [
                {
                    "output_type": "execute_result",
                    "execution_count": 14,
                    "data": {
                        "text/plain": "  successful_mission_outcome failure_mission_outcome\n0                      (100)                     (1)",
                        "text/html": "<div>\n<style scoped>\n    .dataframe tbody tr th:only-of-type {\n        vertical-align: middle;\n    }\n\n    .dataframe tbody tr th {\n        vertical-align: top;\n    }\n\n    .dataframe thead th {\n        text-align: right;\n    }\n</style>\n<table border=\"1\" class=\"dataframe\">\n  <thead>\n    <tr style=\"text-align: right;\">\n      <th></th>\n      <th>successful_mission_outcome</th>\n      <th>failure_mission_outcome</th>\n    </tr>\n  </thead>\n  <tbody>\n    <tr>\n      <th>0</th>\n      <td>(100)</td>\n      <td>(1)</td>\n    </tr>\n  </tbody>\n</table>\n</div>"
                    },
                    "metadata": {}
                }
            ]
        },
        {
            "metadata": {},
            "cell_type": "markdown",
            "source": "### Task 8\n\n##### List the   names of the booster_versions which have carried the maximum payload mass. Use a subquery\n"
        },
        {
            "metadata": {},
            "cell_type": "code",
            "source": "load = %sql SELECT DISTINCT BOOSTER_VERSION , max(PAYLOAD_MASS__KG_) as max_payload FROM SPACEXTBL GROUP BY BOOSTER_VERSION ORDER BY max_payload DESC;\nload",
            "execution_count": 15,
            "outputs": [
                {
                    "output_type": "stream",
                    "text": " * ibm_db_sa://hvz99678:***@21fecfd8-47b7-4937-840d-d791d0218660.bs2io90l08kqb1od8lcg.databases.appdomain.cloud:31864/BLUDB\nDone.\n",
                    "name": "stdout"
                },
                {
                    "output_type": "execute_result",
                    "execution_count": 15,
                    "data": {
                        "text/plain": "[('F9 B5 B1048.4', 15600),\n ('F9 B5 B1048.5', 15600),\n ('F9 B5 B1049.4', 15600),\n ('F9 B5 B1049.5', 15600),\n ('F9 B5 B1049.7', 15600),\n ('F9 B5 B1051.3', 15600),\n ('F9 B5 B1051.4', 15600),\n ('F9 B5 B1051.6', 15600),\n ('F9 B5 B1056.4', 15600),\n ('F9 B5 B1058.3', 15600),\n ('F9 B5 B1060.2', 15600),\n ('F9 B5 B1060.3', 15600),\n ('F9 B5 B1049.6', 15440),\n ('F9 B5 B1059.3', 15410),\n ('F9 B5 B1051.5', 14932),\n ('F9 B5 B1049.3', 13620),\n ('F9 B5B1058.1', 12530),\n ('F9 B5B1061.1', 12500),\n ('F9 B5B1051.1', 12055),\n ('F9 B5 B1046.4', 12050),\n ('F9 B4  B1041.2', 9600),\n ('F9 B4 B1041.1', 9600),\n ('F9 B5 B1049.2', 9600),\n ('F9 B5B1048.1', 9600),\n ('F9 FT  B1036.2', 9600),\n ('F9 FT B1029.1', 9600),\n ('F9 FT B1036.1', 9600),\n ('F9 B5B1047.1', 7075),\n ('F9 B5B1049.1', 7060),\n ('F9 B5 B1056.3', 6956),\n ('F9 FT B1037', 6761),\n ('F9 B5 B1047.3', 6500),\n ('F9 B4  B1043.2', 6460),\n ('F9 B4 B1044', 6092),\n ('F9 FT B1034', 6070),\n ('F9 B5 B1046.2', 5800),\n ('F9 FT B1030', 5600),\n ('F9 B5 B1058.2', 5500),\n ('F9 B4  B1040.2', 5384),\n ('F9 B5 B1047.2', 5300),\n ('F9 FT  B1021.2', 5300),\n ('F9 FT B1032.1', 5300),\n ('F9 FT B1020', 5271),\n ('F9 FT  B1031.2', 5200),\n ('F9 B4 B1043.1', 5000),\n ('F9 B4 B1040.1', 4990),\n ('F9 B5 B1048.3', 4850),\n ('F9 v1.1 B1016', 4707),\n ('F9 FT B1022', 4696),\n ('F9 FT B1026', 4600),\n ('F9 v1.1', 4535),\n ('F9 v1.1 B1011', 4428),\n ('F9 B5B1054', 4400),\n ('F9 B5B1060.1', 4311),\n ('F9 B5B1062.1', 4311),\n ('F9 FT  B1032.2', 4230),\n ('F9 B5 B1051.2', 4200),\n ('F9 v1.1 B1014', 4159),\n ('F9 B5 B1046.3', 4000),\n ('F9 FT  B1029.2', 3669),\n ('F9 B5  B1046.1', 3600),\n ('F9 FT B1024', 3600),\n ('F9 B4 B1042.1', 3500),\n ('F9 B4 B1039.1', 3310),\n ('F9 FT B1021.1', 3136),\n ('F9 B5 B1059.4', 3130),\n ('F9 FT B1023.1', 3100),\n ('F9 B5 B1048.2', 3000),\n ('F9 B5 B1058.4', 2972),\n ('F9 FT B1035.1', 2708),\n ('F9 B4 B1045.2', 2697),\n ('F9 B4  B1039.2', 2647),\n ('F9 B5B1059.1', 2617),\n ('F9 B5B1050', 2500),\n ('F9 B5B1056.1', 2495),\n ('F9 FT B1031.1', 2490),\n ('F9 v1.1 B1012', 2395),\n ('F9 B5 B1056.2', 2268),\n ('F9 FT B1025.1', 2257),\n ('F9 v1.1 B1010', 2216),\n ('F9 FT  B1035.2', 2205),\n ('F9 FT  B1038.2', 2150),\n ('F9 FT B1019', 2034),\n ('F9 B5 B1059.2', 1977),\n ('F9 v1.1 B1018', 1952),\n ('F9 v1.1 B1015', 1898),\n ('F9 B5B1063.1', 1192),\n ('F9 v1.0  B0007', 677),\n ('F9 v1.1 B1013', 570),\n ('F9 v1.1 B1017', 553),\n ('F9 v1.0  B0005', 525),\n ('F9 v1.0  B0006', 500),\n ('F9 v1.1  B1003', 500),\n ('F9 FT B1038.1', 475),\n ('F9 B4 B1045.1', 362),\n ('F9 v1.0  B0003', 0),\n ('F9 v1.0  B0004', 0)]",
                        "text/html": "<table>\n    <tr>\n        <th>booster_version</th>\n        <th>max_payload</th>\n    </tr>\n    <tr>\n        <td>F9 B5 B1048.4</td>\n        <td>15600</td>\n    </tr>\n    <tr>\n        <td>F9 B5 B1048.5</td>\n        <td>15600</td>\n    </tr>\n    <tr>\n        <td>F9 B5 B1049.4</td>\n        <td>15600</td>\n    </tr>\n    <tr>\n        <td>F9 B5 B1049.5</td>\n        <td>15600</td>\n    </tr>\n    <tr>\n        <td>F9 B5 B1049.7</td>\n        <td>15600</td>\n    </tr>\n    <tr>\n        <td>F9 B5 B1051.3</td>\n        <td>15600</td>\n    </tr>\n    <tr>\n        <td>F9 B5 B1051.4</td>\n        <td>15600</td>\n    </tr>\n    <tr>\n        <td>F9 B5 B1051.6</td>\n        <td>15600</td>\n    </tr>\n    <tr>\n        <td>F9 B5 B1056.4</td>\n        <td>15600</td>\n    </tr>\n    <tr>\n        <td>F9 B5 B1058.3</td>\n        <td>15600</td>\n    </tr>\n    <tr>\n        <td>F9 B5 B1060.2</td>\n        <td>15600</td>\n    </tr>\n    <tr>\n        <td>F9 B5 B1060.3</td>\n        <td>15600</td>\n    </tr>\n    <tr>\n        <td>F9 B5 B1049.6</td>\n        <td>15440</td>\n    </tr>\n    <tr>\n        <td>F9 B5 B1059.3</td>\n        <td>15410</td>\n    </tr>\n    <tr>\n        <td>F9 B5 B1051.5</td>\n        <td>14932</td>\n    </tr>\n    <tr>\n        <td>F9 B5 B1049.3</td>\n        <td>13620</td>\n    </tr>\n    <tr>\n        <td>F9 B5B1058.1</td>\n        <td>12530</td>\n    </tr>\n    <tr>\n        <td>F9 B5B1061.1</td>\n        <td>12500</td>\n    </tr>\n    <tr>\n        <td>F9 B5B1051.1</td>\n        <td>12055</td>\n    </tr>\n    <tr>\n        <td>F9 B5 B1046.4</td>\n        <td>12050</td>\n    </tr>\n    <tr>\n        <td>F9 B4  B1041.2</td>\n        <td>9600</td>\n    </tr>\n    <tr>\n        <td>F9 B4 B1041.1</td>\n        <td>9600</td>\n    </tr>\n    <tr>\n        <td>F9 B5 B1049.2</td>\n        <td>9600</td>\n    </tr>\n    <tr>\n        <td>F9 B5B1048.1</td>\n        <td>9600</td>\n    </tr>\n    <tr>\n        <td>F9 FT  B1036.2</td>\n        <td>9600</td>\n    </tr>\n    <tr>\n        <td>F9 FT B1029.1</td>\n        <td>9600</td>\n    </tr>\n    <tr>\n        <td>F9 FT B1036.1</td>\n        <td>9600</td>\n    </tr>\n    <tr>\n        <td>F9 B5B1047.1</td>\n        <td>7075</td>\n    </tr>\n    <tr>\n        <td>F9 B5B1049.1</td>\n        <td>7060</td>\n    </tr>\n    <tr>\n        <td>F9 B5 B1056.3</td>\n        <td>6956</td>\n    </tr>\n    <tr>\n        <td>F9 FT B1037</td>\n        <td>6761</td>\n    </tr>\n    <tr>\n        <td>F9 B5 B1047.3</td>\n        <td>6500</td>\n    </tr>\n    <tr>\n        <td>F9 B4  B1043.2</td>\n        <td>6460</td>\n    </tr>\n    <tr>\n        <td>F9 B4 B1044</td>\n        <td>6092</td>\n    </tr>\n    <tr>\n        <td>F9 FT B1034</td>\n        <td>6070</td>\n    </tr>\n    <tr>\n        <td>F9 B5 B1046.2</td>\n        <td>5800</td>\n    </tr>\n    <tr>\n        <td>F9 FT B1030</td>\n        <td>5600</td>\n    </tr>\n    <tr>\n        <td>F9 B5 B1058.2</td>\n        <td>5500</td>\n    </tr>\n    <tr>\n        <td>F9 B4  B1040.2</td>\n        <td>5384</td>\n    </tr>\n    <tr>\n        <td>F9 B5 B1047.2</td>\n        <td>5300</td>\n    </tr>\n    <tr>\n        <td>F9 FT  B1021.2</td>\n        <td>5300</td>\n    </tr>\n    <tr>\n        <td>F9 FT B1032.1</td>\n        <td>5300</td>\n    </tr>\n    <tr>\n        <td>F9 FT B1020</td>\n        <td>5271</td>\n    </tr>\n    <tr>\n        <td>F9 FT  B1031.2</td>\n        <td>5200</td>\n    </tr>\n    <tr>\n        <td>F9 B4 B1043.1</td>\n        <td>5000</td>\n    </tr>\n    <tr>\n        <td>F9 B4 B1040.1</td>\n        <td>4990</td>\n    </tr>\n    <tr>\n        <td>F9 B5 B1048.3</td>\n        <td>4850</td>\n    </tr>\n    <tr>\n        <td>F9 v1.1 B1016</td>\n        <td>4707</td>\n    </tr>\n    <tr>\n        <td>F9 FT B1022</td>\n        <td>4696</td>\n    </tr>\n    <tr>\n        <td>F9 FT B1026</td>\n        <td>4600</td>\n    </tr>\n    <tr>\n        <td>F9 v1.1</td>\n        <td>4535</td>\n    </tr>\n    <tr>\n        <td>F9 v1.1 B1011</td>\n        <td>4428</td>\n    </tr>\n    <tr>\n        <td>F9 B5B1054</td>\n        <td>4400</td>\n    </tr>\n    <tr>\n        <td>F9 B5B1060.1</td>\n        <td>4311</td>\n    </tr>\n    <tr>\n        <td>F9 B5B1062.1</td>\n        <td>4311</td>\n    </tr>\n    <tr>\n        <td>F9 FT  B1032.2</td>\n        <td>4230</td>\n    </tr>\n    <tr>\n        <td>F9 B5 B1051.2</td>\n        <td>4200</td>\n    </tr>\n    <tr>\n        <td>F9 v1.1 B1014</td>\n        <td>4159</td>\n    </tr>\n    <tr>\n        <td>F9 B5 B1046.3</td>\n        <td>4000</td>\n    </tr>\n    <tr>\n        <td>F9 FT  B1029.2</td>\n        <td>3669</td>\n    </tr>\n    <tr>\n        <td>F9 B5  B1046.1</td>\n        <td>3600</td>\n    </tr>\n    <tr>\n        <td>F9 FT B1024</td>\n        <td>3600</td>\n    </tr>\n    <tr>\n        <td>F9 B4 B1042.1</td>\n        <td>3500</td>\n    </tr>\n    <tr>\n        <td>F9 B4 B1039.1</td>\n        <td>3310</td>\n    </tr>\n    <tr>\n        <td>F9 FT B1021.1</td>\n        <td>3136</td>\n    </tr>\n    <tr>\n        <td>F9 B5 B1059.4</td>\n        <td>3130</td>\n    </tr>\n    <tr>\n        <td>F9 FT B1023.1</td>\n        <td>3100</td>\n    </tr>\n    <tr>\n        <td>F9 B5 B1048.2</td>\n        <td>3000</td>\n    </tr>\n    <tr>\n        <td>F9 B5 B1058.4</td>\n        <td>2972</td>\n    </tr>\n    <tr>\n        <td>F9 FT B1035.1</td>\n        <td>2708</td>\n    </tr>\n    <tr>\n        <td>F9 B4 B1045.2</td>\n        <td>2697</td>\n    </tr>\n    <tr>\n        <td>F9 B4  B1039.2</td>\n        <td>2647</td>\n    </tr>\n    <tr>\n        <td>F9 B5B1059.1</td>\n        <td>2617</td>\n    </tr>\n    <tr>\n        <td>F9 B5B1050</td>\n        <td>2500</td>\n    </tr>\n    <tr>\n        <td>F9 B5B1056.1</td>\n        <td>2495</td>\n    </tr>\n    <tr>\n        <td>F9 FT B1031.1</td>\n        <td>2490</td>\n    </tr>\n    <tr>\n        <td>F9 v1.1 B1012</td>\n        <td>2395</td>\n    </tr>\n    <tr>\n        <td>F9 B5 B1056.2</td>\n        <td>2268</td>\n    </tr>\n    <tr>\n        <td>F9 FT B1025.1</td>\n        <td>2257</td>\n    </tr>\n    <tr>\n        <td>F9 v1.1 B1010</td>\n        <td>2216</td>\n    </tr>\n    <tr>\n        <td>F9 FT  B1035.2</td>\n        <td>2205</td>\n    </tr>\n    <tr>\n        <td>F9 FT  B1038.2</td>\n        <td>2150</td>\n    </tr>\n    <tr>\n        <td>F9 FT B1019</td>\n        <td>2034</td>\n    </tr>\n    <tr>\n        <td>F9 B5 B1059.2</td>\n        <td>1977</td>\n    </tr>\n    <tr>\n        <td>F9 v1.1 B1018</td>\n        <td>1952</td>\n    </tr>\n    <tr>\n        <td>F9 v1.1 B1015</td>\n        <td>1898</td>\n    </tr>\n    <tr>\n        <td>F9 B5B1063.1</td>\n        <td>1192</td>\n    </tr>\n    <tr>\n        <td>F9 v1.0  B0007</td>\n        <td>677</td>\n    </tr>\n    <tr>\n        <td>F9 v1.1 B1013</td>\n        <td>570</td>\n    </tr>\n    <tr>\n        <td>F9 v1.1 B1017</td>\n        <td>553</td>\n    </tr>\n    <tr>\n        <td>F9 v1.0  B0005</td>\n        <td>525</td>\n    </tr>\n    <tr>\n        <td>F9 v1.0  B0006</td>\n        <td>500</td>\n    </tr>\n    <tr>\n        <td>F9 v1.1  B1003</td>\n        <td>500</td>\n    </tr>\n    <tr>\n        <td>F9 FT B1038.1</td>\n        <td>475</td>\n    </tr>\n    <tr>\n        <td>F9 B4 B1045.1</td>\n        <td>362</td>\n    </tr>\n    <tr>\n        <td>F9 v1.0  B0003</td>\n        <td>0</td>\n    </tr>\n    <tr>\n        <td>F9 v1.0  B0004</td>\n        <td>0</td>\n    </tr>\n</table>"
                    },
                    "metadata": {}
                }
            ]
        },
        {
            "metadata": {},
            "cell_type": "markdown",
            "source": "### Task 9\n\n##### List the failed landing_outcomes in drone ship, their booster versions, and launch site names for in year 2015\n"
        },
        {
            "metadata": {},
            "cell_type": "code",
            "source": "# list_2015 = %sql SELECT MONTH(DATE),MISSION_OUTCOME,BOOSTER_VERSION,LAUNCH_SITE FROM SPACEXTBL where EXTRACT(YEAR FROM DATE)='2015'\n# list_2015\n\nsucc = %sql SELECT MONTHNAME(DATE,'%m') as monthname, BOOSTER_VERSION, LAUNCH_SITE, LANDING_OUTCOME FROM SPACEXTBL WHERE (LANDING_OUTCOME LIKE '%Failure (drone ship)%') AND EXTRACT(YEAR FROM DATE) = '2015'\nsucc",
            "execution_count": 16,
            "outputs": [
                {
                    "output_type": "stream",
                    "text": " * ibm_db_sa://hvz99678:***@21fecfd8-47b7-4937-840d-d791d0218660.bs2io90l08kqb1od8lcg.databases.appdomain.cloud:31864/BLUDB\nDone.\n",
                    "name": "stdout"
                },
                {
                    "output_type": "execute_result",
                    "execution_count": 16,
                    "data": {
                        "text/plain": "[('January', 'F9 v1.1 B1012', 'CCAFS LC-40', 'Failure (drone ship)'),\n ('April', 'F9 v1.1 B1015', 'CCAFS LC-40', 'Failure (drone ship)')]",
                        "text/html": "<table>\n    <tr>\n        <th>monthname</th>\n        <th>booster_version</th>\n        <th>launch_site</th>\n        <th>landing_outcome</th>\n    </tr>\n    <tr>\n        <td>January</td>\n        <td>F9 v1.1 B1012</td>\n        <td>CCAFS LC-40</td>\n        <td>Failure (drone ship)</td>\n    </tr>\n    <tr>\n        <td>April</td>\n        <td>F9 v1.1 B1015</td>\n        <td>CCAFS LC-40</td>\n        <td>Failure (drone ship)</td>\n    </tr>\n</table>"
                    },
                    "metadata": {}
                }
            ]
        },
        {
            "metadata": {},
            "cell_type": "markdown",
            "source": "### Task 10\n\n##### Rank the count of landing outcomes (such as Failure (drone ship) or Success (ground pad)) between the date 2010-06-04 and 2017-03-20, in descending order\n"
        },
        {
            "metadata": {},
            "cell_type": "code",
            "source": "rank_count = %sql select COUNT(LANDING_OUTCOME) as successful_landing_outcome from SPACEXTBL where (LANDING_OUTCOME LIKE '%Success%') AND (DATE > '2010-06-04') AND (DATE < '2017-03-20')\nrank_count",
            "execution_count": 17,
            "outputs": [
                {
                    "output_type": "stream",
                    "text": " * ibm_db_sa://hvz99678:***@21fecfd8-47b7-4937-840d-d791d0218660.bs2io90l08kqb1od8lcg.databases.appdomain.cloud:31864/BLUDB\nDone.\n",
                    "name": "stdout"
                },
                {
                    "output_type": "execute_result",
                    "execution_count": 17,
                    "data": {
                        "text/plain": "[(8,)]",
                        "text/html": "<table>\n    <tr>\n        <th>successful_landing_outcome</th>\n    </tr>\n    <tr>\n        <td>8</td>\n    </tr>\n</table>"
                    },
                    "metadata": {}
                }
            ]
        },
        {
            "metadata": {},
            "cell_type": "markdown",
            "source": "### Reference Links\n\n*   <a href =\"https://cf-courses-data.s3.us.cloud-object-storage.appdomain.cloud/IBMDeveloperSkillsNetwork-DB0201EN-SkillsNetwork/labs/Labs_Coursera_V5/labs/Lab%20-%20String%20Patterns%20-%20Sorting%20-%20Grouping/instructional-labs.md.html?utm_medium=Exinfluencer&utm_source=Exinfluencer&utm_content=000026UJ&utm_term=10006555&utm_id=NA-SkillsNetwork-Channel-SkillsNetworkCoursesIBMDS0321ENSkillsNetwork26802033-2021-01-01&origin=www.coursera.org\">Hands-on Lab : String Patterns, Sorting and Grouping</a>\n\n*   <a  href=\"https://cf-courses-data.s3.us.cloud-object-storage.appdomain.cloud/IBMDeveloperSkillsNetwork-DB0201EN-SkillsNetwork/labs/Labs_Coursera_V5/labs/Lab%20-%20Built-in%20functions%20/Hands-on_Lab__Built-in_Functions.md.html?utm_medium=Exinfluencer&utm_source=Exinfluencer&utm_content=000026UJ&utm_term=10006555&utm_id=NA-SkillsNetwork-Channel-SkillsNetworkCoursesIBMDS0321ENSkillsNetwork26802033-2021-01-01&origin=www.coursera.org\">Hands-on Lab: Built-in functions</a>\n\n*   <a  href=\"https://cf-courses-data.s3.us.cloud-object-storage.appdomain.cloud/IBMDeveloperSkillsNetwork-DB0201EN-SkillsNetwork/labs/Labs_Coursera_V5/labs/Lab%20-%20Sub-queries%20and%20Nested%20SELECTs%20/instructional-labs.md.html?utm_medium=Exinfluencer&utm_source=Exinfluencer&utm_content=000026UJ&utm_term=10006555&utm_id=NA-SkillsNetwork-Channel-SkillsNetworkCoursesIBMDS0321ENSkillsNetwork26802033-2021-01-01&origin=www.coursera.org\">Hands-on Lab : Sub-queries and Nested SELECT Statements</a>\n\n*   <a href=\"https://cf-courses-data.s3.us.cloud-object-storage.appdomain.cloud/IBMDeveloperSkillsNetwork-DB0201EN-SkillsNetwork/labs/Module%205/DB0201EN-Week3-1-3-SQLmagic.ipynb?utm_medium=Exinfluencer&utm_source=Exinfluencer&utm_content=000026UJ&utm_term=10006555&utm_id=NA-SkillsNetwork-Channel-SkillsNetworkCoursesIBMDS0321ENSkillsNetwork26802033-2021-01-01\">Hands-on Tutorial: Accessing Databases with SQL magic</a>\n\n*   <a href= \"https://cf-courses-data.s3.us.cloud-object-storage.appdomain.cloud/IBMDeveloperSkillsNetwork-DB0201EN-SkillsNetwork/labs/Module%205/DB0201EN-Week3-1-4-Analyzing.ipynb?utm_medium=Exinfluencer&utm_source=Exinfluencer&utm_content=000026UJ&utm_term=10006555&utm_id=NA-SkillsNetwork-Channel-SkillsNetworkCoursesIBMDS0321ENSkillsNetwork26802033-2021-01-01\">Hands-on Lab: Analyzing a real World Data Set</a>\n"
        }
    ],
    "metadata": {
        "kernelspec": {
            "name": "python3",
            "display_name": "Python 3.8",
            "language": "python"
        },
        "language_info": {
            "name": "python",
            "version": "3.8.12",
            "mimetype": "text/x-python",
            "codemirror_mode": {
                "name": "ipython",
                "version": 3
            },
            "pygments_lexer": "ipython3",
            "nbconvert_exporter": "python",
            "file_extension": ".py"
        }
    },
    "nbformat": 4,
    "nbformat_minor": 4
}